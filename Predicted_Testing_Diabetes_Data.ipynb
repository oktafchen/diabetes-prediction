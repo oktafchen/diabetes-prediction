{
  "nbformat": 4,
  "nbformat_minor": 0,
  "metadata": {
    "colab": {
      "provenance": []
    },
    "kernelspec": {
      "name": "python3",
      "display_name": "Python 3"
    },
    "language_info": {
      "name": "python"
    }
  },
  "cells": [
    {
      "cell_type": "markdown",
      "source": [
        "#load data"
      ],
      "metadata": {
        "id": "Tn0xv6eyw8tA"
      }
    },
    {
      "cell_type": "code",
      "source": [
        "from google.colab import drive\n",
        "drive.mount('/content/drive')"
      ],
      "metadata": {
        "colab": {
          "base_uri": "https://localhost:8080/"
        },
        "id": "nUvGwM1NwC7G",
        "outputId": "7f3bdaa6-2335-4698-8a84-b17003e89fcc"
      },
      "execution_count": 2,
      "outputs": [
        {
          "output_type": "stream",
          "name": "stdout",
          "text": [
            "Mounted at /content/drive\n"
          ]
        }
      ]
    },
    {
      "cell_type": "code",
      "execution_count": 5,
      "metadata": {
        "id": "HaQNj5K8vFmr"
      },
      "outputs": [],
      "source": [
        "import joblib\n",
        "import pandas as pd\n",
        "\n",
        "# Ganti path sesuai lokasi file kamu di Drive\n",
        "model = joblib.load('/content/drive/My Drive/Colab Notebooks/Example Dataset/Pima indians diabetes dataset/xgb_diabetes_model.pkl')\n",
        "scaler = joblib.load('/content/drive/My Drive/Colab Notebooks/Example Dataset/Pima indians diabetes dataset/scaler.pkl')"
      ]
    },
    {
      "cell_type": "markdown",
      "source": [
        "#Input Data"
      ],
      "metadata": {
        "id": "zNifrKv5w_pi"
      }
    },
    {
      "cell_type": "code",
      "source": [
        "# Data baru (misalnya dari input user)\n",
        "input_data = pd.DataFrame([{\n",
        "    'Pregnancies': 2,\n",
        "    'Glucose': 120,\n",
        "    'BloodPressure': 70,\n",
        "    'SkinThickness': 25,\n",
        "    'Insulin': 80,\n",
        "    'BMI': 28.5,\n",
        "    'DiabetesPedigreeFunction': 0.5,\n",
        "    'Age': 32\n",
        "}])"
      ],
      "metadata": {
        "id": "h4vBSXHAwwqh"
      },
      "execution_count": 6,
      "outputs": []
    },
    {
      "cell_type": "markdown",
      "source": [
        "#Preprocess Data"
      ],
      "metadata": {
        "id": "qmK36P9uxHRT"
      }
    },
    {
      "cell_type": "code",
      "source": [
        "numeric_columns = ['Pregnancies', 'Glucose', 'BloodPressure', 'SkinThickness',\n",
        "                   'Insulin', 'BMI', 'DiabetesPedigreeFunction', 'Age']\n",
        "scaled_columns = [col + 'Scaled' for col in numeric_columns]\n",
        "\n",
        "# Transform pakai scaler\n",
        "input_scaled_array = scaler.transform(input_data[numeric_columns])\n",
        "input_scaled = pd.DataFrame(input_scaled_array, columns=scaled_columns)"
      ],
      "metadata": {
        "id": "gRO9eQfEw2dX"
      },
      "execution_count": 7,
      "outputs": []
    },
    {
      "cell_type": "markdown",
      "source": [
        "#Output"
      ],
      "metadata": {
        "id": "6daGjFDvxJnu"
      }
    },
    {
      "cell_type": "code",
      "source": [
        "# Prediksi\n",
        "pred = model.predict(input_scaled)[0]\n",
        "proba = model.predict_proba(input_scaled)[0][1]\n",
        "\n",
        "# Tampilkan hasil\n",
        "hasil = \"Diabetes\" if pred == 1 else \"Tidak Diabetes\"\n",
        "print(f\"Prediksi: {hasil}\")\n",
        "print(f\"Probabilitas Diabetes: {proba * 100:.2f}%\")"
      ],
      "metadata": {
        "colab": {
          "base_uri": "https://localhost:8080/"
        },
        "id": "pgEj0k8Ew5Cg",
        "outputId": "7aebf638-2ac0-4246-bd02-f7b89cc7f428"
      },
      "execution_count": 8,
      "outputs": [
        {
          "output_type": "stream",
          "name": "stdout",
          "text": [
            "Prediksi: Tidak Diabetes\n",
            "Probabilitas Diabetes: 20.23%\n"
          ]
        }
      ]
    }
  ]
}